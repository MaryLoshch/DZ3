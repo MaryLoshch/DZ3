{
  "nbformat": 4,
  "nbformat_minor": 0,
  "metadata": {
    "colab": {
      "provenance": [],
      "authorship_tag": "ABX9TyNuuQ08p0XOoK3bdhT+CLn8"
    },
    "kernelspec": {
      "name": "python3",
      "display_name": "Python 3"
    },
    "language_info": {
      "name": "python"
    }
  },
  "cells": [
    {
      "cell_type": "code",
      "execution_count": null,
      "metadata": {
        "id": "Dhh3DdDq2DlE"
      },
      "outputs": [],
      "source": [
        "import pandas as pd"
      ]
    },
    {
      "cell_type": "code",
      "source": [
        "import random"
      ],
      "metadata": {
        "id": "gSoIWCzX2Ouk"
      },
      "execution_count": null,
      "outputs": []
    },
    {
      "cell_type": "code",
      "source": [
        "lst = ['robot'] * 10\n",
        "lst += ['human'] * 10\n",
        "random.shuffle(lst)"
      ],
      "metadata": {
        "id": "ywlIYMZq2T6r"
      },
      "execution_count": null,
      "outputs": []
    },
    {
      "cell_type": "code",
      "source": [
        "data = pd.DataFrame().assign(robot=False, human=False)"
      ],
      "metadata": {
        "id": "XDe_mJ692WuD"
      },
      "execution_count": null,
      "outputs": []
    },
    {
      "cell_type": "code",
      "source": [
        "def set_one_hot(row):\n",
        "    if row['whoAmI'] == 'robot':\n",
        "        row['robot'] = True\n",
        "    elif row['whoAmI'] == 'human':\n",
        "        row['human'] = True\n",
        "    return row"
      ],
      "metadata": {
        "id": "Xq4hqep72ZYb"
      },
      "execution_count": null,
      "outputs": []
    },
    {
      "cell_type": "code",
      "source": [
        "data = data.assign(whoAmI=lst).apply(set_one_hot, axis=1)"
      ],
      "metadata": {
        "id": "e4Tz2PEf2dHj"
      },
      "execution_count": null,
      "outputs": []
    },
    {
      "cell_type": "code",
      "source": [
        "data = data.drop(columns=['whoAmI'])"
      ],
      "metadata": {
        "id": "faKGpr192fO7"
      },
      "execution_count": null,
      "outputs": []
    },
    {
      "cell_type": "code",
      "source": [
        "print(data.head())"
      ],
      "metadata": {
        "colab": {
          "base_uri": "https://localhost:8080/"
        },
        "id": "yXXsCALg2hg7",
        "outputId": "083622f8-d737-4bef-e08d-616f857104bc"
      },
      "execution_count": null,
      "outputs": [
        {
          "output_type": "stream",
          "name": "stdout",
          "text": [
            "  robot human\n",
            "0  True   NaN\n",
            "1  True   NaN\n",
            "2  True   NaN\n",
            "3  True   NaN\n",
            "4  True   NaN\n"
          ]
        }
      ]
    }
  ]
}